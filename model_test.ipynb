{
 "cells": [
  {
   "cell_type": "code",
   "execution_count": 5,
   "metadata": {},
   "outputs": [
    {
     "name": "stdout",
     "output_type": "stream",
     "text": [
      "Model wczytany pomyślnie!\n"
     ]
    }
   ],
   "source": [
    "from tensorflow.keras.models import load_model\n",
    "import numpy as np\n",
    "from tensorflow.keras.applications.mobilenet_v2 import preprocess_input\n",
    "from tensorflow.keras.preprocessing.image import load_img, img_to_array\n",
    "\n",
    "# Wczytanie modelu z pliku .keras\n",
    "model_filename = r\"Classifier\\PatoGenClassifier.keras\"\n",
    "model = load_model(model_filename)\n",
    "print(\"Model wczytany pomyślnie!\")\n"
   ]
  },
  {
   "cell_type": "code",
   "execution_count": 7,
   "metadata": {},
   "outputs": [
    {
     "name": "stdout",
     "output_type": "stream",
     "text": [
      "Shape of the processed image: (1, 224, 224, 3)\n"
     ]
    }
   ],
   "source": [
    "# Ścieżka do obrazu testowego (zamień na własny obraz)\n",
    "test_image_path = r\"img\\apple1.jpg\"  # Podaj pełną ścieżkę do obrazu\n",
    "\n",
    "# Wczytanie obrazu\n",
    "image = load_img(test_image_path, target_size=(224, 224))  # Zmiana rozmiaru na 224x224\n",
    "image_array = img_to_array(image)  # Konwersja do tablicy numpy\n",
    "image_array = np.expand_dims(image_array, axis=0)  # Dodanie wymiaru batch (1, 224, 224, 3)\n",
    "image_array = preprocess_input(image_array)  # Preprocessing zgodny z MobileNetV2\n",
    "\n",
    "print(f\"Shape of the processed image: {image_array.shape}\")\n"
   ]
  },
  {
   "cell_type": "code",
   "execution_count": 8,
   "metadata": {},
   "outputs": [
    {
     "name": "stdout",
     "output_type": "stream",
     "text": [
      "\u001b[1m1/1\u001b[0m \u001b[32m━━━━━━━━━━━━━━━━━━━━\u001b[0m\u001b[37m\u001b[0m \u001b[1m3s\u001b[0m 3s/step\n",
      "Predicted class: healthy\n"
     ]
    }
   ],
   "source": [
    "# Przewidywanie klasy\n",
    "predictions = model.predict(image_array)\n",
    "predicted_class_index = np.argmax(predictions, axis=1)  # Index klasy o największym prawdopodobieństwie\n",
    "\n",
    "# Nazwy klas (zamień na własne nazwy klas z generatora)\n",
    "class_names = ['bacteria', 'fungi', 'healthy', 'virus']  # Upewnij się, że pasują do Twoich klas\n",
    "\n",
    "# Wyświetlenie wyniku\n",
    "predicted_class = class_names[predicted_class_index[0]]\n",
    "print(f\"Predicted class: {predicted_class}\")\n"
   ]
  },
  {
   "cell_type": "code",
   "execution_count": null,
   "metadata": {},
   "outputs": [],
   "source": []
  }
 ],
 "metadata": {
  "kernelspec": {
   "display_name": "base",
   "language": "python",
   "name": "python3"
  },
  "language_info": {
   "codemirror_mode": {
    "name": "ipython",
    "version": 3
   },
   "file_extension": ".py",
   "mimetype": "text/x-python",
   "name": "python",
   "nbconvert_exporter": "python",
   "pygments_lexer": "ipython3",
   "version": "3.11.4"
  }
 },
 "nbformat": 4,
 "nbformat_minor": 2
}
